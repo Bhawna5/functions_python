{
 "cells": [
  {
   "cell_type": "code",
   "execution_count": 63,
   "metadata": {},
   "outputs": [],
   "source": [
    "def capt():\n",
    "    a=input(\"enter ur name\")\n",
    "    b=list(a)\n",
    "    for a in range(0,len(a),3):\n",
    "        b[a]=b[a].upper()\n",
    "    a=''.join(b)\n",
    "    return a\n",
    "    \n",
    "    "
   ]
  },
  {
   "cell_type": "code",
   "execution_count": 65,
   "metadata": {},
   "outputs": [
    {
     "name": "stdout",
     "output_type": "stream",
     "text": [
      "enter ur namebhawna\n"
     ]
    },
    {
     "data": {
      "text/plain": [
       "'BhaWna'"
      ]
     },
     "execution_count": 65,
     "metadata": {},
     "output_type": "execute_result"
    }
   ],
   "source": [
    "capt()"
   ]
  },
  {
   "cell_type": "code",
   "execution_count": 72,
   "metadata": {},
   "outputs": [],
   "source": [
    "def rev():\n",
    "    a=input('enter a sentence')\n",
    "    b=a[::-1]\n",
    "    return b"
   ]
  },
  {
   "cell_type": "code",
   "execution_count": 74,
   "metadata": {},
   "outputs": [
    {
     "name": "stdout",
     "output_type": "stream",
     "text": [
      "enter a sentencemy name is bhawna\n"
     ]
    },
    {
     "data": {
      "text/plain": [
       "'anwahb si eman ym'"
      ]
     },
     "execution_count": 74,
     "metadata": {},
     "output_type": "execute_result"
    }
   ],
   "source": [
    "rev()\n"
   ]
  },
  {
   "cell_type": "code",
   "execution_count": 94,
   "metadata": {},
   "outputs": [],
   "source": [
    "def ten():\n",
    "    a=int(input('enter any integer'))\n",
    "    if a in range(90,110):\n",
    "        print('True')\n",
    "    elif a in range(190,210):\n",
    "        print('True')\n",
    "    else:\n",
    "        print('False')\n",
    "    \n",
    "        "
   ]
  },
  {
   "cell_type": "code",
   "execution_count": 95,
   "metadata": {},
   "outputs": [
    {
     "name": "stdout",
     "output_type": "stream",
     "text": [
      "enter any integer53\n",
      "False\n"
     ]
    }
   ],
   "source": [
    "ten()"
   ]
  },
  {
   "cell_type": "code",
   "execution_count": 96,
   "metadata": {},
   "outputs": [
    {
     "name": "stdout",
     "output_type": "stream",
     "text": [
      "enter any integer101\n",
      "True\n"
     ]
    }
   ],
   "source": [
    "ten()"
   ]
  },
  {
   "cell_type": "code",
   "execution_count": 98,
   "metadata": {},
   "outputs": [
    {
     "name": "stdout",
     "output_type": "stream",
     "text": [
      "enter any integer122\n",
      "False\n"
     ]
    }
   ],
   "source": [
    "ten()"
   ]
  },
  {
   "cell_type": "code",
   "execution_count": 99,
   "metadata": {},
   "outputs": [
    {
     "name": "stdout",
     "output_type": "stream",
     "text": [
      "enter any integer199\n",
      "True\n"
     ]
    }
   ],
   "source": [
    "ten()"
   ]
  },
  {
   "cell_type": "code",
   "execution_count": 14,
   "metadata": {},
   "outputs": [],
   "source": [
    "l=[1,2,3,5,6,3,4]\n",
    "for j in range(0,len(l)-1):\n",
    "    if l[j]==l[j+1]==3:\n",
    "        print('true')\n",
    "        break\n",
    "   "
   ]
  },
  {
   "cell_type": "code",
   "execution_count": 19,
   "metadata": {},
   "outputs": [],
   "source": [
    "def three():\n",
    "    a=list(input('enter elements of list'))\n",
    "    print(a)\n",
    "    for i in range(0,len(a)-1):\n",
    "        if a[i]==a[i+1]=='3':\n",
    "            print('True')\n",
    "        else:\n",
    "            print('False')\n",
    "    return a\n",
    "    "
   ]
  },
  {
   "cell_type": "code",
   "execution_count": 20,
   "metadata": {},
   "outputs": [
    {
     "name": "stdout",
     "output_type": "stream",
     "text": [
      "enter elements of list1233\n",
      "['1', '2', '3', '3']\n",
      "False\n",
      "False\n",
      "True\n"
     ]
    },
    {
     "data": {
      "text/plain": [
       "['1', '2', '3', '3']"
      ]
     },
     "execution_count": 20,
     "metadata": {},
     "output_type": "execute_result"
    }
   ],
   "source": [
    "three()"
   ]
  },
  {
   "cell_type": "code",
   "execution_count": null,
   "metadata": {},
   "outputs": [],
   "source": []
  }
 ],
 "metadata": {
  "kernelspec": {
   "display_name": "Python 3",
   "language": "python",
   "name": "python3"
  },
  "language_info": {
   "codemirror_mode": {
    "name": "ipython",
    "version": 3
   },
   "file_extension": ".py",
   "mimetype": "text/x-python",
   "name": "python",
   "nbconvert_exporter": "python",
   "pygments_lexer": "ipython3",
   "version": "3.7.0"
  }
 },
 "nbformat": 4,
 "nbformat_minor": 2
}
